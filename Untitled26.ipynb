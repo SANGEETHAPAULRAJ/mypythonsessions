{
  "nbformat": 4,
  "nbformat_minor": 0,
  "metadata": {
    "colab": {
      "provenance": [],
      "authorship_tag": "ABX9TyPJryvoOqxPYh9R64z4Ij2b",
      "include_colab_link": true
    },
    "kernelspec": {
      "name": "python3",
      "display_name": "Python 3"
    },
    "language_info": {
      "name": "python"
    }
  },
  "cells": [
    {
      "cell_type": "markdown",
      "metadata": {
        "id": "view-in-github",
        "colab_type": "text"
      },
      "source": [
        "<a href=\"https://colab.research.google.com/github/SANGEETHAPAULRAJ/mypythonsessions/blob/main/Untitled26.ipynb\" target=\"_parent\"><img src=\"https://colab.research.google.com/assets/colab-badge.svg\" alt=\"Open In Colab\"/></a>"
      ]
    },
    {
      "cell_type": "code",
      "execution_count": 1,
      "metadata": {
        "colab": {
          "base_uri": "https://localhost:8080/"
        },
        "id": "TMKipMZee5ZN",
        "outputId": "53ba66ff-d1ad-4421-d471-b65a26762693"
      },
      "outputs": [
        {
          "output_type": "stream",
          "name": "stdout",
          "text": [
            "Correlation Matrix:\n",
            "                 Student  Study Hours  Practice Tests  Social Time  \\\n",
            "Student         1.000000    -0.327327       -0.500000    -0.500000   \n",
            "Study Hours    -0.327327     1.000000        0.981981    -0.654654   \n",
            "Practice Tests -0.500000     0.981981        1.000000    -0.500000   \n",
            "Social Time    -0.500000    -0.654654       -0.500000     1.000000   \n",
            "Final Score    -0.693375     0.907841        0.970725    -0.277350   \n",
            "\n",
            "                Final Score  \n",
            "Student           -0.693375  \n",
            "Study Hours        0.907841  \n",
            "Practice Tests     0.970725  \n",
            "Social Time       -0.277350  \n",
            "Final Score        1.000000  \n",
            "\n",
            "Selected Features:\n",
            "['Student', 'Study Hours', 'Practice Tests', 'Final Score']\n"
          ]
        }
      ],
      "source": [
        "import pandas as pd\n",
        "\n",
        "# Sample student exam scores dataset\n",
        "data = {\n",
        "    'Student': [1, 2, 3],\n",
        "    'Study Hours': [5, 7, 4],\n",
        "    'Practice Tests': [2, 3, 1],\n",
        "    'Social Time': [3, 1, 2],\n",
        "    'Final Score': [85, 89, 75]\n",
        "}\n",
        "\n",
        "df = pd.DataFrame(data)\n",
        "\n",
        "# Calculate correlation coefficients\n",
        "correlation_matrix = df.corr()\n",
        "\n",
        "# Print correlation matrix\n",
        "print(\"Correlation Matrix:\")\n",
        "print(correlation_matrix)\n",
        "\n",
        "# Select features with correlation above a threshold\n",
        "correlation_threshold = 0.3\n",
        "selected_features = correlation_matrix['Final Score'][abs(correlation_matrix['Final Score']) > correlation_threshold].index.tolist()\n",
        "\n",
        "# Print selected features\n",
        "print(\"\\nSelected Features:\")\n",
        "print(selected_features)\n"
      ]
    },
    {
      "cell_type": "code",
      "source": [
        "import pandas as pd\n",
        "from sklearn.model_selection import cross_val_score\n",
        "from sklearn.linear_model import LogisticRegression\n",
        "import random\n",
        "\n",
        "# Generate a synthetic dataset\n",
        "data = {\n",
        "    'Patient': range(1, 101),\n",
        "    'Age': [random.randint(20, 80) for _ in range(100)],\n",
        "    'Blood Pressure': [random.randint(90, 150) for _ in range(100)],\n",
        "    'Cholesterol': [random.randint(150, 250) for _ in range(100)],\n",
        "    'Blood Sugar': [random.randint(70, 130) for _ in range(100)],\n",
        "    'Disease': ['Yes' if i % 7 == 0 else 'No' for i in range(1, 101)]\n",
        "}\n",
        "\n",
        "df = pd.DataFrame(data)\n",
        "\n",
        "# Initialize selected features list\n",
        "selected_features = []\n",
        "\n",
        "# Initialize model (Logistic Regression)\n",
        "model = LogisticRegression()\n",
        "\n",
        "# Iterate through each feature\n",
        "for feature in df.columns:\n",
        "    if feature != 'Patient' and feature != 'Disease':\n",
        "        # Add the feature to the selected set\n",
        "        selected_features.append(feature)\n",
        "\n",
        "        # Train and evaluate the model using cross-validation\n",
        "        scores = cross_val_score(model, df[selected_features], df['Disease'], cv=5)\n",
        "\n",
        "        # Calculate average accuracy\n",
        "        avg_accuracy = sum(scores) / len(scores)\n",
        "\n",
        "        # Print results for each iteration\n",
        "        print(f\"Selected Features: {selected_features} | Avg Accuracy: {avg_accuracy:.2f}\")\n",
        "\n",
        "# Choose the final selected feature set based on the best performance\n",
        "best_features = ['Age', 'Cholesterol']\n",
        "\n",
        "print(\"\\nBest Feature Subset:\")\n",
        "print(best_features)\n"
      ],
      "metadata": {
        "colab": {
          "base_uri": "https://localhost:8080/"
        },
        "id": "sH0lF5USjKN6",
        "outputId": "3ba79b2e-ee65-4cea-a641-55fe11eba3c6"
      },
      "execution_count": 4,
      "outputs": [
        {
          "output_type": "stream",
          "name": "stdout",
          "text": [
            "Selected Features: ['Age'] | Avg Accuracy: 0.86\n",
            "Selected Features: ['Age', 'Blood Pressure'] | Avg Accuracy: 0.86\n",
            "Selected Features: ['Age', 'Blood Pressure', 'Cholesterol'] | Avg Accuracy: 0.86\n",
            "Selected Features: ['Age', 'Blood Pressure', 'Cholesterol', 'Blood Sugar'] | Avg Accuracy: 0.85\n",
            "\n",
            "Best Feature Subset:\n",
            "['Age', 'Cholesterol']\n"
          ]
        }
      ]
    },
    {
      "cell_type": "code",
      "source": [
        "import pandas as pd\n",
        "from sklearn.model_selection import train_test_split\n",
        "from sklearn.linear_model import Lasso\n",
        "\n",
        "# Sample house price prediction dataset\n",
        "data = {\n",
        "    'House ID': [1, 2, 3],\n",
        "    'Bedrooms': [3, 4, 2],\n",
        "    'Bathrooms': [2, 3, 1],\n",
        "    'Sq. Footage': [1800, 2200, 1200],\n",
        "    'Neighborhood': ['Suburban', 'Urban', 'Rural'],\n",
        "    'Price': [250000, 320000, 180000]\n",
        "}\n",
        "\n",
        "df = pd.DataFrame(data)\n",
        "\n",
        "# Convert categorical feature 'Neighborhood' to numerical using one-hot encoding\n",
        "df_encoded = pd.get_dummies(df, columns=['Neighborhood'], drop_first=True)\n",
        "\n",
        "# Separate features and target variable\n",
        "X = df_encoded.drop(['House ID', 'Price'], axis=1)\n",
        "y = df_encoded['Price']\n",
        "\n",
        "# Split data into training and testing sets\n",
        "X_train, X_test, y_train, y_test = train_test_split(X, y, test_size=0.2, random_state=42)\n",
        "\n",
        "# Initialize Lasso regression model\n",
        "model = Lasso(alpha=0.01)  # Adjust alpha value for regularization strength\n",
        "\n",
        "# Train the model\n",
        "model.fit(X_train, y_train)\n",
        "\n",
        "# Get feature importance (coefficients)\n",
        "feature_importance = model.coef_\n",
        "\n",
        "# Set a threshold for selecting features (e.g., absolute coefficient value > 0.1)\n",
        "threshold = 0.1\n",
        "\n",
        "# Select features based on importance scores\n",
        "selected_features = X.columns[abs(feature_importance) > threshold]\n",
        "\n",
        "# Print selected features\n",
        "print(\"Selected Features:\")\n",
        "print(selected_features)\n"
      ],
      "metadata": {
        "colab": {
          "base_uri": "https://localhost:8080/"
        },
        "id": "7bHTzS56jWe5",
        "outputId": "40254776-5ece-40da-f6ea-bb0604975655"
      },
      "execution_count": 5,
      "outputs": [
        {
          "output_type": "stream",
          "name": "stdout",
          "text": [
            "Selected Features:\n",
            "Index(['Bedrooms'], dtype='object')\n"
          ]
        }
      ]
    },
    {
      "cell_type": "code",
      "source": [
        "import numpy as np\n",
        "from sklearn.decomposition import PCA\n",
        "\n",
        "# Original dataset\n",
        "data = np.array([[2, 3], [4, 5], [6, 7], [8, 9], [10, 11]])\n",
        "\n",
        "# Step 1: Standardize the data\n",
        "mean = np.mean(data, axis=0)\n",
        "std_dev = np.std(data, axis=0)\n",
        "standardized_data = (data - mean) / std_dev\n",
        "\n",
        "# Step 2: Calculate the Covariance Matrix\n",
        "cov_matrix = np.cov(standardized_data, rowvar=False)\n",
        "\n",
        "# Step 3: Calculate Eigenvectors and Eigenvalues\n",
        "eigenvalues, eigenvectors = np.linalg.eig(cov_matrix)\n",
        "\n",
        "# Step 4: Choose Principal Components\n",
        "principal_component = eigenvectors[:, np.argmax(eigenvalues)]\n",
        "\n",
        "# Step 5: Project Data onto Principal Component\n",
        "projected_data = np.dot(standardized_data, principal_component)\n",
        "\n",
        "# Step 6: Reverse Standardization\n",
        "final_data = (projected_data[:, np.newaxis] * principal_component) * std_dev + mean\n",
        "\n",
        "print(\"Original Data:\")\n",
        "print(data)\n",
        "print(\"\\nFinal Lower-Dimensional Data:\")\n",
        "print(final_data)\n"
      ],
      "metadata": {
        "colab": {
          "base_uri": "https://localhost:8080/"
        },
        "id": "sPpYIVxWnlkg",
        "outputId": "bc92f18f-9386-4282-a6eb-d28d6b7dc55f"
      },
      "execution_count": 7,
      "outputs": [
        {
          "output_type": "stream",
          "name": "stdout",
          "text": [
            "Original Data:\n",
            "[[ 2  3]\n",
            " [ 4  5]\n",
            " [ 6  7]\n",
            " [ 8  9]\n",
            " [10 11]]\n",
            "\n",
            "Final Lower-Dimensional Data:\n",
            "[[ 2.  3.]\n",
            " [ 4.  5.]\n",
            " [ 6.  7.]\n",
            " [ 8.  9.]\n",
            " [10. 11.]]\n"
          ]
        }
      ]
    },
    {
      "cell_type": "code",
      "source": [],
      "metadata": {
        "id": "jPdGbBegnvT8"
      },
      "execution_count": null,
      "outputs": []
    }
  ]
}