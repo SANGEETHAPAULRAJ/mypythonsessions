{
  "nbformat": 4,
  "nbformat_minor": 0,
  "metadata": {
    "colab": {
      "name": "Untitled11.ipynb",
      "provenance": [],
      "authorship_tag": "ABX9TyP/E2uf9afHHcNCKB7zADH9",
      "include_colab_link": true
    },
    "kernelspec": {
      "name": "python3",
      "display_name": "Python 3"
    },
    "language_info": {
      "name": "python"
    }
  },
  "cells": [
    {
      "cell_type": "markdown",
      "metadata": {
        "id": "view-in-github",
        "colab_type": "text"
      },
      "source": [
        "<a href=\"https://colab.research.google.com/github/SANGEETHAPAULRAJ/mypythonsessions/blob/main/Untitled11.ipynb\" target=\"_parent\"><img src=\"https://colab.research.google.com/assets/colab-badge.svg\" alt=\"Open In Colab\"/></a>"
      ]
    },
    {
      "cell_type": "code",
      "execution_count": 1,
      "metadata": {
        "id": "IFjHNCf9EfIJ"
      },
      "outputs": [],
      "source": [
        "import numpy as np\n",
        "import pandas as pd\n",
        "import matplotlib.pyplot as plt\n",
        "import seaborn as sns\n",
        "%matplotlib inline"
      ]
    },
    {
      "cell_type": "code",
      "source": [
        "x=pd.Series([24.23,25.53,25.41,24.14,29.62,28.25,25.81,24.39,40.26,32.95,91.36,25.99,39.42,26.71,35.00])"
      ],
      "metadata": {
        "id": "Z4yYsZ2TEtYg"
      },
      "execution_count": 3,
      "outputs": []
    },
    {
      "cell_type": "code",
      "source": [
        "name=['Allied Signal','Bankers Trust','General Mills','ITT Industries','J.P.Morgan & Co.','Lehman Brothers','Marriott','MCI','Merrill Lynch',\n",
        "      'Microsoft','Morgan Stanley','Sun Microsystems','Travelers','US Airways','Warner-Lambert']"
      ],
      "metadata": {
        "id": "vebHRDECFTNb"
      },
      "execution_count": 5,
      "outputs": []
    },
    {
      "cell_type": "code",
      "source": [
        "plt.figure(figsize=(20,10))"
      ],
      "metadata": {
        "colab": {
          "base_uri": "https://localhost:8080/",
          "height": 53
        },
        "id": "bXxq5AHjF542",
        "outputId": "885084f7-a2ef-4e07-d382-61d109ba9ce4"
      },
      "execution_count": 8,
      "outputs": [
        {
          "output_type": "execute_result",
          "data": {
            "text/plain": [
              "<Figure size 1440x720 with 0 Axes>"
            ]
          },
          "metadata": {},
          "execution_count": 8
        },
        {
          "output_type": "display_data",
          "data": {
            "text/plain": [
              "<Figure size 1440x720 with 0 Axes>"
            ]
          },
          "metadata": {}
        }
      ]
    },
    {
      "cell_type": "code",
      "source": [
        "plt.pie(x,labels=name,autopct='%1.0f%%')"
      ],
      "metadata": {
        "colab": {
          "base_uri": "https://localhost:8080/",
          "height": 1000
        },
        "id": "SzHHz5itGKmf",
        "outputId": "6c0b5b39-1f13-4b1c-c913-9c09aad6a34a"
      },
      "execution_count": 10,
      "outputs": [
        {
          "output_type": "execute_result",
          "data": {
            "text/plain": [
              "([<matplotlib.patches.Wedge at 0x7f92150b3d50>,\n",
              "  <matplotlib.patches.Wedge at 0x7f92150c14d0>,\n",
              "  <matplotlib.patches.Wedge at 0x7f92150c1d50>,\n",
              "  <matplotlib.patches.Wedge at 0x7f92150cb690>,\n",
              "  <matplotlib.patches.Wedge at 0x7f9215057210>,\n",
              "  <matplotlib.patches.Wedge at 0x7f9215057b50>,\n",
              "  <matplotlib.patches.Wedge at 0x7f9215060150>,\n",
              "  <matplotlib.patches.Wedge at 0x7f92150609d0>,\n",
              "  <matplotlib.patches.Wedge at 0x7f92150cbed0>,\n",
              "  <matplotlib.patches.Wedge at 0x7f9215057850>,\n",
              "  <matplotlib.patches.Wedge at 0x7f92150b3d10>,\n",
              "  <matplotlib.patches.Wedge at 0x7f9215079ad0>,\n",
              "  <matplotlib.patches.Wedge at 0x7f9215084390>,\n",
              "  <matplotlib.patches.Wedge at 0x7f9215084c10>,\n",
              "  <matplotlib.patches.Wedge at 0x7f92150104d0>],\n",
              " [Text(1.087229608003385, 0.16712803319852174, 'Allied Signal'),\n",
              "  Text(0.9828289461480074, 0.49401139927495336, 'Bankers Trust'),\n",
              "  Text(0.7770213716923852, 0.7786127329637529, 'General Mills'),\n",
              "  Text(0.500589114389161, 0.9794950426393569, 'ITT Industries'),\n",
              "  Text(0.14701343081593748, 1.09013166689154, 'J.P.Morgan & Co.'),\n",
              "  Text(-0.25102787165672724, 1.0709738594622624, 'Lehman Brothers'),\n",
              "  Text(-0.5940932351165659, 0.9257716932315078, 'Marriott'),\n",
              "  Text(-0.852379310544051, 0.6953053364935786, 'MCI'),\n",
              "  Text(-1.057980932673138, 0.30112513362400867, 'Merrill Lynch'),\n",
              "  Text(-1.0815202792052954, -0.20078318073907453, 'Microsoft'),\n",
              "  Text(-0.6253838571430779, -0.9049281911979793, 'Morgan Stanley'),\n",
              "  Text(0.14694509767976283, -1.0901408800094992, 'Sun Microsystems'),\n",
              "  Text(0.57095205164786, -0.9402200565394782, 'Travelers'),\n",
              "  Text(0.902381559110251, -0.6290528767740856, 'US Airways'),\n",
              "  Text(1.0734100571373322, -0.24039727377079212, 'Warner-Lambert')],\n",
              " [Text(0.5930343316382098, 0.09116074538101185, '5%'),\n",
              "  Text(0.5360885160807313, 0.26946076324088364, '5%'),\n",
              "  Text(0.4238298391049373, 0.42469785434386514, '5%'),\n",
              "  Text(0.2730486078486332, 0.534270023257831, '5%'),\n",
              "  Text(0.08018914408142043, 0.5946172728499308, '6%'),\n",
              "  Text(-0.1369242936309421, 0.5841675597066885, '6%'),\n",
              "  Text(-0.3240508555181268, 0.5049663781262769, '5%'),\n",
              "  Text(-0.46493416938766413, 0.37925745626922464, '5%'),\n",
              "  Text(-0.5770805087308025, 0.1642500728858229, '8%'),\n",
              "  Text(-0.5899201522937975, -0.10951809858494974, '7%'),\n",
              "  Text(-0.3411184675325879, -0.4935971951988977, '18%'),\n",
              "  Text(0.0801518714616888, -0.5946222981869995, '5%'),\n",
              "  Text(0.31142839180792364, -0.512847303566988, '8%'),\n",
              "  Text(0.49220812315104595, -0.343119750967683, '5%'),\n",
              "  Text(0.5854963948021812, -0.13112578569315933, '7%')])"
            ]
          },
          "metadata": {},
          "execution_count": 10
        },
        {
          "output_type": "display_data",
          "data": {
            "text/plain": [
              "<Figure size 432x288 with 1 Axes>"
            ],
            "image/png": "[encoded data removed]"
          },
          "metadata": {}
        }
      ]
    },
    {
      "cell_type": "code",
      "source": [
        "plt.show()"
      ],
      "metadata": {
        "id": "hLeaseY2Gepn"
      },
      "execution_count": 11,
      "outputs": []
    },
    {
      "cell_type": "code",
      "source": [
        "sns.boxplot(x)"
      ],
      "metadata": {
        "colab": {
          "base_uri": "https://localhost:8080/",
          "height": 339
        },
        "id": "1SkJxhHLG7nL",
        "outputId": "e4853788-6704-4771-d348-07e2635224ed"
      },
      "execution_count": 12,
      "outputs": [
        {
          "output_type": "stream",
          "name": "stderr",
          "text": [
            "/usr/local/lib/python3.7/dist-packages/seaborn/_decorators.py:43: FutureWarning: Pass the following variable as a keyword arg: x. From version 0.12, the only valid positional argument will be `data`, and passing other arguments without an explicit keyword will result in an error or misinterpretation.\n",
            "  FutureWarning\n"
          ]
        },
        {
          "output_type": "execute_result",
          "data": {
            "text/plain": [
              "<matplotlib.axes._subplots.AxesSubplot at 0x7f921591f290>"
            ]
          },
          "metadata": {},
          "execution_count": 12
        },
        {
          "output_type": "display_data",
          "data": {
            "text/plain": [
              "<Figure size 432x288 with 1 Axes>"
            ],
            "image/png": "[encoded data removed]"
          },
          "metadata": {
            "needs_background": "light"
          }
        }
      ]
    },
    {
      "cell_type": "code",
      "source": [
        "x.mean()"
      ],
      "metadata": {
        "colab": {
          "base_uri": "https://localhost:8080/"
        },
        "id": "KvAsekB3HGJV",
        "outputId": "6cae2e6b-bfd8-4930-e88c-3af9da077e0c"
      },
      "execution_count": 13,
      "outputs": [
        {
          "output_type": "execute_result",
          "data": {
            "text/plain": [
              "33.27133333333333"
            ]
          },
          "metadata": {},
          "execution_count": 13
        }
      ]
    },
    {
      "cell_type": "code",
      "source": [
        "x.std()"
      ],
      "metadata": {
        "colab": {
          "base_uri": "https://localhost:8080/"
        },
        "id": "4IWMwcCkHYuX",
        "outputId": "2c607052-0416-4b8c-a0dd-4890ba8099c3"
      },
      "execution_count": 14,
      "outputs": [
        {
          "output_type": "execute_result",
          "data": {
            "text/plain": [
              "16.945400921222028"
            ]
          },
          "metadata": {},
          "execution_count": 14
        }
      ]
    },
    {
      "cell_type": "code",
      "source": [
        "x.var()"
      ],
      "metadata": {
        "colab": {
          "base_uri": "https://localhost:8080/"
        },
        "id": "IMYO0i88Had3",
        "outputId": "b90796de-448e-4259-f56a-dfa77ab95b9d"
      },
      "execution_count": 15,
      "outputs": [
        {
          "output_type": "execute_result",
          "data": {
            "text/plain": [
              "287.1466123809524"
            ]
          },
          "metadata": {},
          "execution_count": 15
        }
      ]
    },
    {
      "cell_type": "code",
      "source": [
        ""
      ],
      "metadata": {
        "id": "5ALDE2-rHb8N"
      },
      "execution_count": null,
      "outputs": []
    }
  ]
}